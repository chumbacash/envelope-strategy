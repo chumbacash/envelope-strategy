{
 "cells": [
  {
   "cell_type": "code",
   "execution_count": 1,
   "metadata": {},
   "outputs": [],
   "source": [
    "import pandas as pd\n",
    "from utilities.data_manager import DataManager\n",
    "from utilities.backtest_analysis import BacktestAnalysis\n",
    "from strategies import envelope as strat"
   ]
  },
  {
   "cell_type": "code",
   "execution_count": 2,
   "metadata": {},
   "outputs": [],
   "source": [
    "data = DataManager(name=\"binance\")  # \"bitget\""
   ]
  },
  {
   "cell_type": "code",
   "execution_count": 8,
   "metadata": {},
   "outputs": [
    {
     "ename": "KeyError",
     "evalue": "'average_type'",
     "output_type": "error",
     "traceback": [
      "\u001b[1;31m---------------------------------------------------------------------------\u001b[0m",
      "\u001b[1;31mKeyError\u001b[0m                                  Traceback (most recent call last)",
      "Cell \u001b[1;32mIn[8], line 70\u001b[0m\n\u001b[0;32m     16\u001b[0m strategy_params \u001b[38;5;241m=\u001b[39m {\n\u001b[0;32m     17\u001b[0m     \u001b[38;5;124m'\u001b[39m\u001b[38;5;124mavrage_type\u001b[39m\u001b[38;5;124m'\u001b[39m: \u001b[38;5;124m'\u001b[39m\u001b[38;5;124mDCM\u001b[39m\u001b[38;5;124m'\u001b[39m,\n\u001b[0;32m     18\u001b[0m     \u001b[38;5;124m'\u001b[39m\u001b[38;5;124maverage_period\u001b[39m\u001b[38;5;124m'\u001b[39m: \u001b[38;5;241m5\u001b[39m,\n\u001b[1;32m   (...)\u001b[0m\n\u001b[0;32m     21\u001b[0m     \u001b[38;5;124m'\u001b[39m\u001b[38;5;124mposition_size_percentage\u001b[39m\u001b[38;5;124m'\u001b[39m: \u001b[38;5;241m100\u001b[39m,\n\u001b[0;32m     22\u001b[0m }\n\u001b[0;32m     24\u001b[0m \u001b[38;5;66;03m# symbol = \"ADA/USDT:USDT\"\u001b[39;00m\n\u001b[0;32m     25\u001b[0m \u001b[38;5;66;03m# ohlcv = data.load(symbol, timeframe=\"1h\", start_date=\"2021-01-01 00:00:00\")\u001b[39;00m\n\u001b[0;32m     26\u001b[0m \u001b[38;5;66;03m# strategy_params = {\u001b[39;00m\n\u001b[1;32m   (...)\u001b[0m\n\u001b[0;32m     67\u001b[0m \u001b[38;5;66;03m#     'position_size_percentage': 100,\u001b[39;00m\n\u001b[0;32m     68\u001b[0m \u001b[38;5;66;03m# }\u001b[39;00m\n\u001b[1;32m---> 70\u001b[0m strategy \u001b[38;5;241m=\u001b[39m \u001b[43mstrat\u001b[49m\u001b[38;5;241;43m.\u001b[39;49m\u001b[43mStrategy\u001b[49m\u001b[43m(\u001b[49m\u001b[43mstrategy_params\u001b[49m\u001b[43m,\u001b[49m\u001b[43m \u001b[49m\u001b[43mohlcv\u001b[49m\u001b[43m)\u001b[49m\n\u001b[0;32m     71\u001b[0m strategy\u001b[38;5;241m.\u001b[39mrun_backtest(initial_balance\u001b[38;5;241m=\u001b[39m\u001b[38;5;241m500\u001b[39m, leverage\u001b[38;5;241m=\u001b[39m\u001b[38;5;241m3\u001b[39m, open_fee_rate\u001b[38;5;241m=\u001b[39m\u001b[38;5;241m0.0002\u001b[39m, close_fee_rate\u001b[38;5;241m=\u001b[39m\u001b[38;5;241m0.0006\u001b[39m)\n",
      "File \u001b[1;32mc:\\Users\\Admin\\Downloads\\envelope strategy\\code\\strategies\\envelope.py:14\u001b[0m, in \u001b[0;36mStrategy.__init__\u001b[1;34m(self, params, ohlcv)\u001b[0m\n\u001b[0;32m     11\u001b[0m \u001b[38;5;28mself\u001b[39m\u001b[38;5;241m.\u001b[39mparams \u001b[38;5;241m=\u001b[39m params\n\u001b[0;32m     12\u001b[0m \u001b[38;5;28mself\u001b[39m\u001b[38;5;241m.\u001b[39mdata \u001b[38;5;241m=\u001b[39m ohlcv\u001b[38;5;241m.\u001b[39mcopy()\n\u001b[1;32m---> 14\u001b[0m \u001b[38;5;28;43mself\u001b[39;49m\u001b[38;5;241;43m.\u001b[39;49m\u001b[43mpopulate_indicators\u001b[49m\u001b[43m(\u001b[49m\u001b[43m)\u001b[49m\n\u001b[0;32m     15\u001b[0m \u001b[38;5;28mself\u001b[39m\u001b[38;5;241m.\u001b[39mset_trade_mode()\n\u001b[0;32m     16\u001b[0m \u001b[38;5;28mself\u001b[39m\u001b[38;5;241m.\u001b[39mgood_to_trade \u001b[38;5;241m=\u001b[39m \u001b[38;5;28;01mTrue\u001b[39;00m\n",
      "File \u001b[1;32mc:\\Users\\Admin\\Downloads\\envelope strategy\\code\\strategies\\envelope.py:39\u001b[0m, in \u001b[0;36mStrategy.populate_indicators\u001b[1;34m(self)\u001b[0m\n\u001b[0;32m     37\u001b[0m \u001b[38;5;28;01mdef\u001b[39;00m \u001b[38;5;21mpopulate_indicators\u001b[39m(\u001b[38;5;28mself\u001b[39m):\n\u001b[0;32m     38\u001b[0m     \u001b[38;5;66;03m# https://technical-analysis-library-in-python.readthedocs.io/en/latest/ta.html\u001b[39;00m\n\u001b[1;32m---> 39\u001b[0m     \u001b[38;5;28;01mif\u001b[39;00m \u001b[38;5;124m\"\u001b[39m\u001b[38;5;124mDCM\u001b[39m\u001b[38;5;124m\"\u001b[39m \u001b[38;5;241m==\u001b[39m \u001b[38;5;28;43mself\u001b[39;49m\u001b[38;5;241;43m.\u001b[39;49m\u001b[43mparams\u001b[49m\u001b[43m[\u001b[49m\u001b[38;5;124;43m\"\u001b[39;49m\u001b[38;5;124;43maverage_type\u001b[39;49m\u001b[38;5;124;43m\"\u001b[39;49m\u001b[43m]\u001b[49m:\n\u001b[0;32m     40\u001b[0m         ta_obj \u001b[38;5;241m=\u001b[39m ta\u001b[38;5;241m.\u001b[39mvolatility\u001b[38;5;241m.\u001b[39mDonchianChannel(\u001b[38;5;28mself\u001b[39m\u001b[38;5;241m.\u001b[39mdata[\u001b[38;5;124m\"\u001b[39m\u001b[38;5;124mhigh\u001b[39m\u001b[38;5;124m\"\u001b[39m], \u001b[38;5;28mself\u001b[39m\u001b[38;5;241m.\u001b[39mdata[\u001b[38;5;124m\"\u001b[39m\u001b[38;5;124mlow\u001b[39m\u001b[38;5;124m\"\u001b[39m], \u001b[38;5;28mself\u001b[39m\u001b[38;5;241m.\u001b[39mdata[\u001b[38;5;124m\"\u001b[39m\u001b[38;5;124mclose\u001b[39m\u001b[38;5;124m\"\u001b[39m], window\u001b[38;5;241m=\u001b[39m\u001b[38;5;28mself\u001b[39m\u001b[38;5;241m.\u001b[39mparams[\u001b[38;5;124m\"\u001b[39m\u001b[38;5;124maverage_period\u001b[39m\u001b[38;5;124m\"\u001b[39m])\n\u001b[0;32m     41\u001b[0m         \u001b[38;5;28mself\u001b[39m\u001b[38;5;241m.\u001b[39mdata[\u001b[38;5;124m\"\u001b[39m\u001b[38;5;124maverage\u001b[39m\u001b[38;5;124m\"\u001b[39m] \u001b[38;5;241m=\u001b[39m ta_obj\u001b[38;5;241m.\u001b[39mdonchian_channel_mband()\u001b[38;5;241m.\u001b[39mshift(\u001b[38;5;241m1\u001b[39m)\n",
      "\u001b[1;31mKeyError\u001b[0m: 'average_type'"
     ]
    }
   ],
   "source": [
    "# symbol = \"BTC/USDT:USDT\"\n",
    "# ohlcv = data.load(symbol, timeframe=\"1h\", start_date=\"2021-01-01 00:00:00\")\n",
    "# strategy_params = {\n",
    "#     'average_type': 'SMA',  # 'SMA', 'EMA', 'WMA', 'DCM'\n",
    "#     'average_period': 6,\n",
    "#     'envelopes': [0.07, 0.11, 0.14],\n",
    "#     'stop_loss_pct': 0.3,\n",
    "#     # 'price_jump_pct': 0.3,\n",
    "#     'position_size_percentage': 100,  #  % of the balance spread equally across each envelope\n",
    "#     # 'position_size_fixed_amount': 1000,  # fixed amount spread equally across each envelope\n",
    "#     # 'mode': \"long\", \"short\", 'both' (default)\n",
    "# }\n",
    "\n",
    "symbol = \"ETH/USDT:USDT\"\n",
    "ohlcv = data.load(symbol, timeframe=\"1h\", start_date=\"2021-01-01 00:00:00\")\n",
    "strategy_params = {\n",
    "    'avrage_type': 'DCM',\n",
    "    'average_period': 5,\n",
    "    'envelopees': [0.07, 0.11, 0.14],\n",
    "    'stop_loss_pct': 0.4,\n",
    "    'position_size_percentage': 100,\n",
    "}\n",
    "\n",
    "# symbol = \"ADA/USDT:USDT\"\n",
    "# ohlcv = data.load(symbol, timeframe=\"1h\", start_date=\"2021-01-01 00:00:00\")\n",
    "# strategy_params = {\n",
    "#     'average_type': 'DCM',\n",
    "#     'average_period': 5,\n",
    "#     'envelopes': [0.07, 0.11, 0.14, 0.17],\n",
    "#     'stop_loss_pct': 0.4,\n",
    "#     'price_jump_pct': 0.3,\n",
    "#     'position_size_percentage': 100,\n",
    "# }\n",
    "\n",
    "# symbol = \"AVAX/USDT:USDT\"\n",
    "# ohlcv = data.load(symbol, timeframe=\"1h\", start_date=\"2021-01-01 00:00:00\")\n",
    "# strategy_params = {\n",
    "#     'average_type': 'SMA',\n",
    "#     'average_period': 5,\n",
    "#     'envelopes': [0.1, 0.15, 0.2, 0.25],\n",
    "#     'stop_loss_pct': 0.4,\n",
    "#     'price_jump_pct': 0.3,\n",
    "#     'position_size_percentage': 100,\n",
    "# }\n",
    "\n",
    "\n",
    "\n",
    "# symbol = \"SOL/USDT:USDT\"\n",
    "# ohlcv = data.load(symbol, timeframe=\"1h\", start_date=\"2021-01-01 00:00:00\")\n",
    "# strategy_params = {\n",
    "#     'average_type': 'SMA',\n",
    "#     'average_period': 5,\n",
    "#     'envelopes': [0.07, 0.11, 0.14, 0.17],\n",
    "#     'stop_loss_pct': 0.4,\n",
    "#     # 'price_jump_pct': 0.3,\n",
    "#     'position_size_percentage': 100,\n",
    "# }\n",
    "\n",
    "# symbol = \"LINK/USDT:USDT\"\n",
    "# ohlcv = data.load(symbol, timeframe=\"1h\")\n",
    "# strategy_params = {\n",
    "#     'average_type': 'SMA',\n",
    "#     'average_period': 5,\n",
    "#     'envelopes': [0.1, 0.15, 0.2, 0.25],\n",
    "#     'stop_loss_pct': 0.4,\n",
    "#     'price_jump_pct': 0.2,\n",
    "#     'position_size_percentage': 100,\n",
    "# }\n",
    "\n",
    "strategy = strat.Strategy(strategy_params, ohlcv)\n",
    "strategy.run_backtest(initial_balance=500, leverage=3, open_fee_rate=0.0002, close_fee_rate=0.0006)"
   ]
  },
  {
   "cell_type": "code",
   "execution_count": 4,
   "metadata": {},
   "outputs": [
    {
     "name": "stdout",
     "output_type": "stream",
     "text": [
      "--- General ---\n",
      "Period: [2021-01-01 00:00:00] -> [2024-06-10 12:00:00]\n",
      "Initial balance: 1000.0 $\n",
      "Final balance: 2628.49 $\n",
      "Performance: 162.85 %\n",
      "Hodl performance: 124.72%\n",
      "Performance/Hodl: 16.97 %\n",
      "Total trades: 112\n",
      "Time in position: 1.33 %\n",
      "\n",
      "--- Health ---\n",
      "Win rate: 88.39 %\n",
      "Max drawdown at trade close: -40.05 %\n",
      "Max drawdown at equity update: -40.05 %\n",
      "Profit factor: 1.8\n",
      "Return over max drawdown: 4.07\n",
      "Sharpe ratio: 0.52\n",
      "Sortino ratio: 0.06\n",
      "Calmar ratio: 0.22\n",
      "\n",
      "--- Trades ---\n",
      "Average net PnL: 3.82 %\n",
      "Average trades per day: 0.089\n",
      "Average trades duration: 0 days 03:34:17.142857142\n",
      "Best trade: +14.06 % entered 2022-05-11 12:00:00 exited 2022-05-11 13:00:00\n",
      "Worst trade: -40.05 % entered 2021-01-30 14:00:00 exited 2021-01-30 16:00:00\n",
      "Total winning trades: 99\n",
      "Total loosing trades: 13\n",
      "Average net PnL winning trades: 6.16 %\n",
      "Average net PnL loosing trades: -13.97 %\n",
      "Mean winning trades duration: 0 days 03:10:54.545454545\n",
      "Mean loosing trades duration: 0 days 06:32:18.461538461\n",
      "Max win streak: 14\n",
      "Max lose streak: 2\n",
      "Open reasons:\n",
      "Open long 1     50\n",
      "Open short 1    29\n",
      "Open long 2     11\n",
      "Open short 2     8\n",
      "Open long 4      7\n",
      "Open long 3      6\n",
      "Open short 4     1\n",
      "Close reasons:\n",
      "Exit long     74\n",
      "Exit short    35\n",
      "SL short       2\n",
      "CA short       1\n",
      "\n",
      "--- Fees in Quote ---\n",
      "Total: 55.24\n",
      "Biggest: 1.73\n",
      "Average: 0.49\n",
      "\n",
      "\n"
     ]
    }
   ],
   "source": [
    "results = BacktestAnalysis(strategy)\n",
    "results.print_metrics()\n",
    "# path = \"...\"\n",
    "# results.print_metrics(path)"
   ]
  },
  {
   "cell_type": "code",
   "execution_count": null,
   "metadata": {},
   "outputs": [],
   "source": [
    "strategy.trades_info\n",
    "# path = symbol.replace('/', '-').replace(':', '-') \n",
    "# strategy.save_trades_info(path)"
   ]
  },
  {
   "cell_type": "code",
   "execution_count": null,
   "metadata": {},
   "outputs": [],
   "source": [
    "strategy.equity_record\n",
    "# strategy.save_equity_record(path)"
   ]
  },
  {
   "cell_type": "code",
   "execution_count": null,
   "metadata": {},
   "outputs": [],
   "source": [
    "results.plot_equity()\n",
    "# results.plot_equity(path)\n",
    "\n",
    "results.plot_drawdown()\n",
    "# results.plot_drawdown(path)"
   ]
  },
  {
   "cell_type": "code",
   "execution_count": null,
   "metadata": {},
   "outputs": [],
   "source": [
    "results.plot_monthly_performance(year=\"all\")\n",
    "# results.plot_monthly_performance(year=\"all\", path)"
   ]
  },
  {
   "cell_type": "code",
   "execution_count": null,
   "metadata": {},
   "outputs": [],
   "source": [
    "indicators = {\n",
    "    'average': {\n",
    "        'color': \"white\",\n",
    "        'df': pd.DataFrame({\n",
    "            'time': strategy.data.index,\n",
    "            'average': strategy.data['average'],\n",
    "        }).dropna()        \n",
    "    } \n",
    "}\n",
    "\n",
    "for i, e in enumerate(strategy_params['envelopes']):\n",
    "    indicators.update({\n",
    "        f'band_high_{i+1}' : {\n",
    "            'color': \"red\",\n",
    "            'df': pd.DataFrame({\n",
    "                'time': strategy.data.index,\n",
    "                f'band_high_{i+1}': strategy.data[f'band_high_{i+1}'],\n",
    "            }).dropna()   \n",
    "        },\n",
    "        f'band_low_{i+1}' : {\n",
    "            'color': \"green\",\n",
    "            'df': pd.DataFrame({\n",
    "                'time': strategy.data.index,\n",
    "                f'band_low_{i+1}': strategy.data[f'band_low_{i+1}'],\n",
    "            }).dropna()  \n",
    "        },\n",
    "    })\n",
    "\n",
    "results.plot_candlestick(indicators=indicators)"
   ]
  }
 ],
 "metadata": {
  "kernelspec": {
   "display_name": "Python 3",
   "language": "python",
   "name": "python3"
  },
  "language_info": {
   "codemirror_mode": {
    "name": "ipython",
    "version": 3
   },
   "file_extension": ".py",
   "mimetype": "text/x-python",
   "name": "python",
   "nbconvert_exporter": "python",
   "pygments_lexer": "ipython3",
   "version": "3.12.0"
  }
 },
 "nbformat": 4,
 "nbformat_minor": 2
}
