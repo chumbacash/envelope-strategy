{
 "cells": [
  {
   "cell_type": "code",
   "execution_count": null,
   "metadata": {},
   "outputs": [],
   "source": [
    "import pandas as pd\n",
    "from utilities.data_manager import DataManager\n",
    "from utilities.backtest_analysis import BacktestAnalysis\n",
    "from strategies import simple_sma as strat"
   ]
  },
  {
   "cell_type": "code",
   "execution_count": null,
   "metadata": {},
   "outputs": [],
   "source": [
    "symbol = \"BTC/USDT\"\n",
    "data = DataManager(name=\"binance\")\n",
    "ohlcv = data.load(symbol, timeframe=\"1d\")"
   ]
  },
  {
   "cell_type": "code",
   "execution_count": null,
   "metadata": {},
   "outputs": [],
   "source": [
    "strategy_params = {\n",
    "    'fast_ma_period': 100,\n",
    "    'slow_ma_period': 200,\n",
    "    'trend_ma_period': 300,\n",
    "    'position_size_percentage': 100, #  % of the total balance\n",
    "    # 'position_size_fixed_amount': 100, #  fixed entry amount\n",
    "    # 'position_size_exposure': 2, #  engaged % risk, i.e. % of total balance lost if stop loss hit\n",
    "    # 'mode': \"long\", \"short\", \"both\" (default)\n",
    "}\n",
    "strategy = strat.Strategy(strategy_params, ohlcv)\n",
    "strategy.run_backtest(initial_balance=1000, leverage=1, fee_rate=0.0006)"
   ]
  },
  {
   "cell_type": "code",
   "execution_count": null,
   "metadata": {},
   "outputs": [],
   "source": [
    "# strategy.save_equity_record(symbol.replace('/', '-').replace(':', '-'))\n",
    "# strategy.save_trades_info(symbol.replace('/', '-').replace(':', '-'))"
   ]
  },
  {
   "cell_type": "code",
   "execution_count": null,
   "metadata": {},
   "outputs": [],
   "source": [
    "results = BacktestAnalysis(strategy)\n",
    "results.print_metrics()"
   ]
  },
  {
   "cell_type": "code",
   "execution_count": null,
   "metadata": {},
   "outputs": [],
   "source": [
    "results.plot_equity()\n",
    "results.plot_drawdown()"
   ]
  },
  {
   "cell_type": "code",
   "execution_count": null,
   "metadata": {},
   "outputs": [],
   "source": [
    "results.plot_monthly_performance()"
   ]
  },
  {
   "cell_type": "code",
   "execution_count": null,
   "metadata": {},
   "outputs": [],
   "source": [
    "indicators = {\n",
    "    'fastMA': {\n",
    "        'color': \"gold\",\n",
    "        'df': pd.DataFrame({\n",
    "            'time': strategy.data.index,\n",
    "            'fastMA': strategy.data['fastMA'],\n",
    "        }).dropna()        \n",
    "    }, \n",
    "    'slowMA': {\n",
    "        'color': \"purple\",\n",
    "        'df': pd.DataFrame({\n",
    "            'time': strategy.data.index,\n",
    "            'slowMA': strategy.data['slowMA'],\n",
    "        }).dropna()        \n",
    "    },    \n",
    "    'trend': {\n",
    "        'color': \"white\",\n",
    "        'df': pd.DataFrame({\n",
    "            'time': strategy.data.index,\n",
    "            'trend': strategy.data['trend'],\n",
    "        }).dropna()        \n",
    "    },   \n",
    "}\n",
    "\n",
    "results.plot_candlestick(indicators=indicators)"
   ]
  }
 ],
 "metadata": {
  "kernelspec": {
   "display_name": "Python 3",
   "language": "python",
   "name": "python3"
  },
  "language_info": {
   "codemirror_mode": {
    "name": "ipython",
    "version": 3
   },
   "file_extension": ".py",
   "mimetype": "text/x-python",
   "name": "python",
   "nbconvert_exporter": "python",
   "pygments_lexer": "ipython3",
   "version": "3.12.0"
  }
 },
 "nbformat": 4,
 "nbformat_minor": 2
}
